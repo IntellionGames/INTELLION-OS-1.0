{
 "cells": [
  {
   "cell_type": "code",
   "execution_count": 3,
   "metadata": {},
   "outputs": [
    {
     "name": "stdout",
     "output_type": "stream",
     "text": [
      "2022 INTELLION GAMES/STUDIOS, INTELLION OS IS OWNED BY INTELLION GAMES/STUDIOS, PLEASE ASK BEFORE YOU COPY ANY SOFTWARE.\n",
      "Your New Temporary Software Id Is:\n",
      "85177e96-5265-11ed-af36-1cbfc0c56038\n",
      "Okay, We'll Start Finishing Setup..\n",
      "Okay: IntellionGames@gmail.com\n",
      "Okay, Setup Is Complete. Starting Up...\n",
      "------------------------------------------------------------\n",
      "SYS-INT                        PROFILE-INT       \n",
      "READ_ME-INT                    SETTINGS-INT      \n",
      "------------------------------------------------------------\n",
      "Running...\n",
      "------------------------------------------------------------\n",
      "INTELLION OS V1.0, TEMP. BUILD NUMBER IS BELOW. PLEASE ASK PERMISSION BEFORE COPYING ANY SOFTWARE MADE BY INTELLION GAMES/STUDIOS. THANK YOU FOR USING INTELLION OS, YOU MAY CLOSE OUT OF THIS FILE.\n",
      "85177e96-5265-11ed-af36-1cbfc0c56038\n",
      "------------------------------------------------------------\n",
      "A.T.O.M-INT                    PROFILE-INT       \n",
      "READ_ME-INT                    SETTINGS-INT      \n",
      "------------------------------------------------------------\n"
     ]
    }
   ],
   "source": [
    "#Intellion OS 1.0\n",
    "\n",
    "#AUTO SETUP\n",
    "import uuid\n",
    "print(\"2022 INTELLION GAMES/STUDIOS, INTELLION OS IS OWNED BY INTELLION GAMES/STUDIOS, PLEASE ASK BEFORE YOU COPY ANY SOFTWARE.\")\n",
    "SOFTWAREID = uuid.uuid1()\n",
    "print(\"Your New Temporary Software Id Is:\")\n",
    "print(SOFTWAREID)\n",
    "ask1 = input(\"Okay, Setup Is Almost Complete. Would You Like To Continue?\")\n",
    "if ask1 == (\"yes\"):\n",
    "    print(\"Okay, We'll Start Finishing Setup..\")\n",
    "\n",
    "ask2 = input(\"Would You Like Our Email For Further Releases Of This Software?\")\n",
    "name = input(\"Please Enter Your Name.\")\n",
    "age = input(\"Please Enter Your Age.\")\n",
    "if ask2 == (\"yes\"):\n",
    "    print(\"Okay: IntellionGames@gmail.com\")\n",
    "\n",
    "#OS Dashboard\n",
    "print(\"Okay, Setup Is Complete. Starting Up...\")\n",
    "print(\"------------------------------------------------------------\")\n",
    "print(\"SYS-INT                        PROFILE-INT       \")\n",
    "print(\"READ_ME-INT                    SETTINGS-INT      \")\n",
    "print(\"------------------------------------------------------------\")\n",
    "Goto = input(\"If You'd Like To Go To A File, Please Type In The Full File Extension...\")\n",
    "\n",
    "\n",
    "\n",
    "\n",
    "\n",
    "\n",
    "\n",
    "if Goto == (\"PROFILE-INT\"):\n",
    "    print(\"Running...\")\n",
    "    print(\"------------------------------------------------------------\")\n",
    "    print(\"NAME: \" + name + \" AGE: \" + age)\n",
    "    leave = input(\"Would You Like To Close This File?\")\n",
    "\n",
    "if Goto == (\"SYS-INT\"):\n",
    "    print(\"Running...\")\n",
    "    print(\"------------------------------------------------------------\")\n",
    "    print(\"*********\" + name + \"***********\" + age)\n",
    "    leave = input(\"Would You Like To Close This File?\")\n",
    "\n",
    "if Goto == (\"SETTINGS-INT\"):\n",
    "    print(\"Running...\")\n",
    "    print(\"------------------------------------------------------------\")\n",
    "    sys1 =  input(\"Would You Like To Change Your Name?\")\n",
    "    sys2 = input(\"Would You Like To Change Your Age?\")\n",
    "\n",
    "\n",
    "\n",
    "if Goto == (\"READ_ME-INT\"):\n",
    "    print(\"Running...\")\n",
    "    print(\"------------------------------------------------------------\")\n",
    "    print(\"INTELLION OS V1.0, TEMP. BUILD NUMBER IS BELOW. PLEASE ASK PERMISSION BEFORE COPYING ANY SOFTWARE MADE BY INTELLION GAMES/STUDIOS. THANK YOU FOR USING INTELLION OS, YOU MAY CLOSE OUT OF THIS FILE.\")\n",
    "    print(SOFTWAREID)\n",
    "leave = input(\"Would You Like To Close This File?\")\n",
    "\n",
    "if leave == (\"yes\"):\n",
    "    print(\"------------------------------------------------------------\")\n",
    "    print(\"    SYS-INT                    PROFILE-INT       \")\n",
    "    print(\"READ_ME-INT                    SETTINGS-INT      \")\n",
    "    print(\"------------------------------------------------------------\")\n",
    "    input(Goto)"
   ]
  }
 ],
 "metadata": {
  "kernelspec": {
   "display_name": "Python 3.10.8 64-bit",
   "language": "python",
   "name": "python3"
  },
  "language_info": {
   "codemirror_mode": {
    "name": "ipython",
    "version": 3
   },
   "file_extension": ".py",
   "mimetype": "text/x-python",
   "name": "python",
   "nbconvert_exporter": "python",
   "pygments_lexer": "ipython3",
   "version": "3.10.8"
  },
  "orig_nbformat": 4,
  "vscode": {
   "interpreter": {
    "hash": "88fe7a25d85054255547d6d20438077e2c9b7f0173c5c7f80b1ed29a40135d98"
   }
  }
 },
 "nbformat": 4,
 "nbformat_minor": 2
}
